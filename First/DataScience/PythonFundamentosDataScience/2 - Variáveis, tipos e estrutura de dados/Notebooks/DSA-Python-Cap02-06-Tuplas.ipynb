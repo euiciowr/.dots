{
 "cells": [
  {
   "cell_type": "markdown",
   "metadata": {},
   "source": [
    "# Estrutura de dados - Tuplas\n"
   ]
  },
  {
   "cell_type": "markdown",
   "metadata": {},
   "source": [
    "##### Tuplas são como listas, no entando não pode ser alteradas, são imutáveis\n",
    "##### As Tuplas são construídas com o uso de parênteses () e vírgulas separando cada elemento "
   ]
  },
  {
   "cell_type": "code",
   "execution_count": 7,
   "metadata": {},
   "outputs": [
    {
     "name": "stdout",
     "output_type": "stream",
     "text": [
      "{'a': 6, 'b': 2, 'c': 2, 'd': 2}\n"
     ]
    }
   ],
   "source": [
    "# Exemplo de dicionário com alteração\n",
    "dicionario = {'a':2, 'b':2, 'c':2, 'd':2}\n",
    "dicionario['a'] = 6\n",
    "print(dicionario)"
   ]
  },
  {
   "cell_type": "code",
   "execution_count": 19,
   "metadata": {},
   "outputs": [
    {
     "ename": "SyntaxError",
     "evalue": "can't delete function call (<ipython-input-19-5c648bb9cfb1>, line 9)",
     "output_type": "error",
     "traceback": [
      "\u001b[0;36m  File \u001b[0;32m\"<ipython-input-19-5c648bb9cfb1>\"\u001b[0;36m, line \u001b[0;32m9\u001b[0m\n\u001b[0;31m    del tupla('2item')\u001b[0m\n\u001b[0m       ^\u001b[0m\n\u001b[0;31mSyntaxError\u001b[0m\u001b[0;31m:\u001b[0m can't delete function call\n"
     ]
    }
   ],
   "source": [
    "# Exemplo de tupla sem alteração\n",
    "tupla = (1, 21, '2item', '3item')\n",
    "print(tupla)\n",
    "\n",
    "print('')\n",
    "\n",
    "# Tuplas não suportam append()\n",
    "tupla.append('item99')\n",
    "del tupla['2item']"
   ]
  },
  {
   "cell_type": "code",
   "execution_count": 31,
   "metadata": {},
   "outputs": [
    {
     "name": "stdout",
     "output_type": "stream",
     "text": [
      "Python3\n",
      "('abc', 33, 'itemz')\n",
      "('itemz',)\n",
      "0\n"
     ]
    }
   ],
   "source": [
    "# Tuplas podem ser um único item\n",
    "tupla2 = ('Python3')\n",
    "print(tupla2)\n",
    "\n",
    "tupla2 = ('abc', 33, 'itemz')\n",
    "print(tupla2)\n",
    "\n",
    "# Comprimeto da tupla\n",
    "len(tupla2)\n",
    "\n",
    "# Slicing, mesma forma como em listas\n",
    "print(tupla2[2:])\n",
    "\n",
    "# Posição no índice da string/valor\n",
    "print(tupla2.index('abc'))\n",
    "del tupla2"
   ]
  },
  {
   "cell_type": "code",
   "execution_count": 42,
   "metadata": {},
   "outputs": [
    {
     "name": "stdout",
     "output_type": "stream",
     "text": [
      "('A', 'B', 'C', 'D')\n",
      "['A', 'B', 'C', 'D']\n",
      "['A', 'B', 'C', 'D', 'E']\n",
      "('A', 'B', 'C', 'D', 'E')\n"
     ]
    }
   ],
   "source": [
    "# Nova tupla\n",
    "tupla3 = ('A', 'B', 'C', 'D')\n",
    "print(tupla3)\n",
    "# Alteração de item, mas como é imutável da erro\n",
    "#tupla3[0] = 'L'\n",
    "\n",
    "# Usando a função list() para converter uma tupla para lista\n",
    "tupla3_list = list(tupla3)\n",
    "print(tupla3_list)\n",
    "\n",
    "# Adicionando um novo item a lista convertida\n",
    "tupla3_list.append('E')\n",
    "print(tupla3_list)\n",
    "\n",
    "# USAR A FUNÇÃO TUPLE() PARA CONVERTER A LISTA EM TUPLA\n",
    "tupla4 = tuple(tupla3_list)\n",
    "print(tupla4)"
   ]
  }
 ],
 "metadata": {
  "kernelspec": {
   "display_name": "Python 3",
   "language": "python",
   "name": "python3"
  },
  "language_info": {
   "codemirror_mode": {
    "name": "ipython",
    "version": 3
   },
   "file_extension": ".py",
   "mimetype": "text/x-python",
   "name": "python",
   "nbconvert_exporter": "python",
   "pygments_lexer": "ipython3",
   "version": "3.7.2"
  }
 },
 "nbformat": 4,
 "nbformat_minor": 2
}
