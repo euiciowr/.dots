{
 "cells": [
  {
   "cell_type": "code",
   "execution_count": 1,
   "metadata": {},
   "outputs": [],
   "source": [
    "# Lista\n",
    "estudantes1 = ['Mateus', 23, 'Fernado', 19, 'Larissa', 22]"
   ]
  },
  {
   "cell_type": "code",
   "execution_count": 2,
   "metadata": {},
   "outputs": [
    {
     "name": "stdout",
     "output_type": "stream",
     "text": [
      "['Mateus', 23, 'Fernado', 19, 'Larissa', 22]\n"
     ]
    }
   ],
   "source": [
    "print(estudantes1)"
   ]
  },
  {
   "cell_type": "code",
   "execution_count": 3,
   "metadata": {},
   "outputs": [],
   "source": [
    "# Chave: nomes\n",
    "# Valor: números\n",
    "dicionario = {'Lucas':23, 'Fernando':19, 'Larissa':22}"
   ]
  },
  {
   "cell_type": "code",
   "execution_count": 4,
   "metadata": {},
   "outputs": [
    {
     "name": "stdout",
     "output_type": "stream",
     "text": [
      "{'Lucas': 23, 'Fernando': 19, 'Larissa': 22}\n"
     ]
    }
   ],
   "source": [
    "print(dicionario)"
   ]
  },
  {
   "cell_type": "code",
   "execution_count": 5,
   "metadata": {},
   "outputs": [
    {
     "data": {
      "text/plain": [
       "19"
      ]
     },
     "execution_count": 5,
     "metadata": {},
     "output_type": "execute_result"
    }
   ],
   "source": [
    "# Retornando o valor do índice\n",
    "dicionario['Fernando']"
   ]
  },
  {
   "cell_type": "code",
   "execution_count": 6,
   "metadata": {},
   "outputs": [],
   "source": [
    "# Adicionando um indice ao dicionário\n",
    "dicionario['Pedro'] = 24"
   ]
  },
  {
   "cell_type": "code",
   "execution_count": 7,
   "metadata": {},
   "outputs": [
    {
     "name": "stdout",
     "output_type": "stream",
     "text": [
      "{'Lucas': 23, 'Fernando': 19, 'Larissa': 22, 'Pedro': 24}\n"
     ]
    }
   ],
   "source": [
    "print(dicionario)"
   ]
  },
  {
   "cell_type": "code",
   "execution_count": 8,
   "metadata": {},
   "outputs": [
    {
     "data": {
      "text/plain": [
       "22"
      ]
     },
     "execution_count": 8,
     "metadata": {},
     "output_type": "execute_result"
    }
   ],
   "source": [
    "dicionario['Larissa']"
   ]
  },
  {
   "cell_type": "code",
   "execution_count": 9,
   "metadata": {},
   "outputs": [],
   "source": [
    "# Limpar dicionário - apaga tudo\n",
    "dicionario.clear()"
   ]
  },
  {
   "cell_type": "code",
   "execution_count": 10,
   "metadata": {},
   "outputs": [
    {
     "ename": "NameError",
     "evalue": "name 'dicionario' is not defined",
     "output_type": "error",
     "traceback": [
      "\u001b[0;31m---------------------------------------------------------------------------\u001b[0m",
      "\u001b[0;31mNameError\u001b[0m                                 Traceback (most recent call last)",
      "\u001b[0;32m<ipython-input-10-58762b247bed>\u001b[0m in \u001b[0;36m<module>\u001b[0;34m\u001b[0m\n\u001b[1;32m      1\u001b[0m \u001b[0;31m# Deletart dicionário\u001b[0m\u001b[0;34m\u001b[0m\u001b[0;34m\u001b[0m\u001b[0;34m\u001b[0m\u001b[0m\n\u001b[1;32m      2\u001b[0m \u001b[0;32mdel\u001b[0m \u001b[0mdicionario\u001b[0m\u001b[0;34m\u001b[0m\u001b[0;34m\u001b[0m\u001b[0m\n\u001b[0;32m----> 3\u001b[0;31m \u001b[0mprint\u001b[0m\u001b[0;34m(\u001b[0m\u001b[0mdicionario\u001b[0m\u001b[0;34m)\u001b[0m\u001b[0;34m\u001b[0m\u001b[0;34m\u001b[0m\u001b[0m\n\u001b[0m",
      "\u001b[0;31mNameError\u001b[0m: name 'dicionario' is not defined"
     ]
    }
   ],
   "source": [
    "# Deletart dicionário\n",
    "del dicionario\n",
    "print(dicionario)"
   ]
  },
  {
   "cell_type": "code",
   "execution_count": 11,
   "metadata": {},
   "outputs": [],
   "source": [
    "# Chave: nomes\n",
    "# Valor: números\n",
    "dicionario = {'Lucas':23, 'Fernando':19, 'Larissa':22}"
   ]
  },
  {
   "cell_type": "code",
   "execution_count": 12,
   "metadata": {},
   "outputs": [
    {
     "name": "stdout",
     "output_type": "stream",
     "text": [
      "{'Lucas': 23, 'Fernando': 19, 'Larissa': 22}\n"
     ]
    }
   ],
   "source": [
    "print(dicionario)"
   ]
  },
  {
   "cell_type": "code",
   "execution_count": 13,
   "metadata": {},
   "outputs": [
    {
     "data": {
      "text/plain": [
       "3"
      ]
     },
     "execution_count": 13,
     "metadata": {},
     "output_type": "execute_result"
    }
   ],
   "source": [
    "# Contar a quantidade de strings ou chaves\n",
    "len(dicionario)"
   ]
  },
  {
   "cell_type": "code",
   "execution_count": 14,
   "metadata": {},
   "outputs": [
    {
     "data": {
      "text/plain": [
       "dict_keys(['Lucas', 'Fernando', 'Larissa'])"
      ]
     },
     "execution_count": 14,
     "metadata": {},
     "output_type": "execute_result"
    }
   ],
   "source": [
    "# Extrair apenas as strings\n",
    "dicionario.keys()"
   ]
  },
  {
   "cell_type": "code",
   "execution_count": 15,
   "metadata": {},
   "outputs": [
    {
     "data": {
      "text/plain": [
       "dict_values([23, 19, 22])"
      ]
     },
     "execution_count": 15,
     "metadata": {},
     "output_type": "execute_result"
    }
   ],
   "source": [
    "# Extrair apenas os valores\n",
    "dicionario.values()"
   ]
  },
  {
   "cell_type": "code",
   "execution_count": 16,
   "metadata": {},
   "outputs": [
    {
     "data": {
      "text/plain": [
       "dict_items([('Lucas', 23), ('Fernando', 19), ('Larissa', 22)])"
      ]
     },
     "execution_count": 16,
     "metadata": {},
     "output_type": "execute_result"
    }
   ],
   "source": [
    "# Extrair o dicionário no formato de itens combinando chaves e valores\n",
    "dicionario.items()"
   ]
  },
  {
   "cell_type": "code",
   "execution_count": 17,
   "metadata": {},
   "outputs": [],
   "source": [
    "# Lista de dicionário\n",
    "estudantes = {'Maria':23, 'Rodrigo':18, 'Débora':22}"
   ]
  },
  {
   "cell_type": "code",
   "execution_count": 18,
   "metadata": {},
   "outputs": [
    {
     "name": "stdout",
     "output_type": "stream",
     "text": [
      "{'Maria': 23, 'Rodrigo': 18, 'Débora': 22}\n"
     ]
    }
   ],
   "source": [
    "print(estudantes)"
   ]
  },
  {
   "cell_type": "code",
   "execution_count": 19,
   "metadata": {},
   "outputs": [],
   "source": [
    "# Nova lista de dicionário\n",
    "estudantes2 = {'Lucas':22, 'Vin Diesel':44, 'TheRock':40}"
   ]
  },
  {
   "cell_type": "code",
   "execution_count": 20,
   "metadata": {},
   "outputs": [
    {
     "name": "stdout",
     "output_type": "stream",
     "text": [
      "{'Maria': 23, 'Rodrigo': 18, 'Débora': 22, 'Lucas': 22, 'Vin Diesel': 44, 'TheRock': 40}\n"
     ]
    }
   ],
   "source": [
    "# Adicionando ou concatenando ambas listas\n",
    "estudantes.update(estudantes2)\n",
    "print(estudantes)"
   ]
  },
  {
   "cell_type": "code",
   "execution_count": 21,
   "metadata": {},
   "outputs": [
    {
     "name": "stdout",
     "output_type": "stream",
     "text": [
      "{}\n",
      "{'key_one': 2}\n",
      "{'key_one': 2, 10: 5}\n",
      "{'key_one': 2, 10: 5, 200: 1000}\n",
      "{'joão': 23, 'carlos': 22, 'Julia': 19, 8.2: 'Strange'}\n"
     ]
    }
   ],
   "source": [
    "\n",
    "# Add string null\n",
    "dict = {}\n",
    "print(dict)\n",
    "\n",
    "# Add string com valor\n",
    "dict['key_one'] = 2\n",
    "print(dict)\n",
    "\n",
    "# Add chave com valor\n",
    "dict[10] = 5\n",
    "print(dict)\n",
    "\n",
    "dict[200] = 1000\n",
    "print(dict)\n",
    "\n",
    "# Valor numérico como chave e string como valor | valor e chaves invertidos\n",
    "dict2 = {'joão':23, 'carlos':22, 'Julia':19}\n",
    "dict2[8.2] = 'Strange'\n",
    "print(dict2)"
   ]
  },
  {
   "cell_type": "code",
   "execution_count": 22,
   "metadata": {},
   "outputs": [
    {
     "name": "stdout",
     "output_type": "stream",
     "text": [
      "{'teste': 10, 'key': 'teste'}\n"
     ]
    }
   ],
   "source": [
    "# Adicionando string como chave e como chave com valor | em últimos casos\n",
    "dictc = {}\n",
    "dictc['teste'] = 10\n",
    "dictc['key'] = 'teste'\n",
    "print(dictc)"
   ]
  },
  {
   "cell_type": "code",
   "execution_count": 23,
   "metadata": {},
   "outputs": [
    {
     "name": "stdout",
     "output_type": "stream",
     "text": [
      "{'key1': 'Big Data', 'key2': 'Python', 'key3': 'Hadoop', 'key4': 10}\n",
      "\n",
      "As chaves e os valor escolhidos foram: Big Data, Python, Hadoop\n"
     ]
    }
   ],
   "source": [
    "# Esquema de chave e valor padrão\n",
    "dictd = {}\n",
    "dictd['key1'] = 'Big Data'\n",
    "dictd['key2'] = 'Python'\n",
    "dictd['key3'] = 'Hadoop'\n",
    "dictd['key4'] = 10\n",
    "print(dictd)\n",
    "\n",
    "print('')\n",
    "\n",
    "# Imprimir os valores escolhidos\n",
    "fuc = dictd['key1']\n",
    "fuuc = dictd['key2']\n",
    "fuuuc = dictd['key3']\n",
    "print('As chaves e os valor escolhidos foram: {}, {}, {}'.format(fuc, fuuc, fuuuc))"
   ]
  },
  {
   "cell_type": "code",
   "execution_count": 25,
   "metadata": {},
   "outputs": [
    {
     "name": "stdout",
     "output_type": "stream",
     "text": [
      "\n",
      "['a', 'b', 'c', 'd', 'e']\n",
      "\n",
      "C\n",
      "\n",
      "-12.5\n",
      "\n"
     ]
    }
   ],
   "source": [
    "# DICIONÁRIO DE LISTAS\n",
    "dicte = {'key1': 10, 'key2':[22,24,25,25], 'key3':['a', 'b', 'c', 'd', 'e']}\n",
    "\n",
    "print('')\n",
    "\n",
    "# Imprimindo apenas uma chave de um dicionário\n",
    "print(dicte['key3'])\n",
    "\n",
    "print('')\n",
    "\n",
    "# Acessar um item da lista, dentro do dicionário\n",
    "print(dicte['key3'][2].upper())\n",
    "\n",
    "print('')\n",
    "\n",
    "# OPERAÇÕES COM ITENS DA LISTA, DENTRO DO DICIONÁRIO\n",
    "v1 = dicte['key2'][3] /- 2\n",
    "print(v1)\n",
    "\n",
    "print('')\n",
    "\n",
    "# Duas operações no mesmo comando, para atualizar um item dentro da lista\n",
    "#print(dict2['key2'][0] -= 2)"
   ]
  },
  {
   "cell_type": "markdown",
   "metadata": {},
   "source": [
    "### Criando dicionários aninhados"
   ]
  },
  {
   "cell_type": "code",
   "execution_count": null,
   "metadata": {},
   "outputs": [],
   "source": [
    "# Dicionários aninhados\n",
    "dict_anin = {'key1':{'key2_aninhada':{'key3_aninhada':'Dict aninhado em Python'}}}\n",
    "print(dict_anin)\n",
    "\n",
    "print('')\n",
    "\n",
    "print(dict_anin['key1']['key2_aninhada']['key3_aninhada'])"
   ]
  }
 ],
 "metadata": {
  "kernelspec": {
   "display_name": "Python 3",
   "language": "python",
   "name": "python3"
  },
  "language_info": {
   "codemirror_mode": {
    "name": "ipython",
    "version": 3
   },
   "file_extension": ".py",
   "mimetype": "text/x-python",
   "name": "python",
   "nbconvert_exporter": "python",
   "pygments_lexer": "ipython3",
   "version": "3.7.2"
  }
 },
 "nbformat": 4,
 "nbformat_minor": 2
}
